{
 "cells": [
  {
   "cell_type": "code",
   "execution_count": 1,
   "metadata": {},
   "outputs": [],
   "source": [
    "import csv"
   ]
  },
  {
   "cell_type": "code",
   "execution_count": 23,
   "metadata": {},
   "outputs": [],
   "source": [
    "import csv\n",
    "csvpath = (\"./Desktop/bank.csv\")"
   ]
  },
  {
   "cell_type": "code",
   "execution_count": 25,
   "metadata": {},
   "outputs": [
    {
     "name": "stdout",
     "output_type": "stream",
     "text": [
      "Total Month:86\n",
      "Total : $38382578\n",
      "Average: -2315.12\n",
      "('Feb-2012', 1170593.0)\n",
      "('Sep-2013', -1196225.0)\n"
     ]
    }
   ],
   "source": [
    "\n",
    "with open(csvpath, 'r', newline='') as csvfile:\n",
    "    csvreader = csv.reader(csvfile, delimiter=',')\n",
    "    csv_header = next(csvreader)\n",
    "    row1 = next(csvreader)\n",
    "    months = []\n",
    "    total = 0\n",
    "    maximum = 0\n",
    "    minimum = 0\n",
    "    maximum_month = \"\"\n",
    "    minimum_month = \"\"\n",
    "    for row in csvreader:\n",
    "      months.append(row[0])\n",
    "      total += int(row[1])\n",
    "      revenue = total +int (row1[1])\n",
    "      total_months = len(months) + 1 \n",
    "      change = int(row[1])\n",
    "      net_profit = int (row1[1])\n",
    "      net = change - net_profit\n",
    "\n",
    "      if float(row[1])  > maximum:\n",
    "        maximum = float (row[1])\n",
    "        maximum_month = row[0]\n",
    "      if float (row[1]) < minimum:\n",
    "        minimum = float (row[1])\n",
    "        minimum_month = row[0]\n",
    "   \n",
    "print(f\"Total Month:{total_months}\")\n",
    "print(f\"Total : ${revenue}\")\n",
    "print(f'Average: '  +str (round(int(net)/len(months),2)))\n",
    "print((maximum_month, maximum))\n",
    "print((minimum_month, minimum)) "
   ]
  },
  {
   "cell_type": "code",
   "execution_count": 39,
   "metadata": {},
   "outputs": [],
   "source": [
    "with open('./Desktop/financial_analysis.txt', 'w') as text:\n",
    "    text.write(\"Total Months: \"+ str(total_months) +\"\\n\")\n",
    "    text.write(\"Total Profits: \" + \"$\" + str(revenue) +\"\\n\")\n",
    "    text.write(\"Average Change: \" +str (round(int(net)/len(months),2))+\"\\n\" )\n",
    "    text.write(\"Greatest Increase in Profits: \" + str(maximum_month) + \" ($\" + str(maximum) + \")\\n\")\n",
    "    text.write(\"Greatest Increase in Profits: \" + str(minimum_month) + \" ($\" + str(minimum) + \")\\n\")"
   ]
  },
  {
   "cell_type": "code",
   "execution_count": 40,
   "metadata": {},
   "outputs": [
    {
     "data": {
      "text/plain": [
       "'C:\\\\Users\\\\hamza'"
      ]
     },
     "execution_count": 40,
     "metadata": {},
     "output_type": "execute_result"
    }
   ],
   "source": [
    "pwd"
   ]
  },
  {
   "cell_type": "code",
   "execution_count": null,
   "metadata": {},
   "outputs": [],
   "source": []
  }
 ],
 "metadata": {
  "kernelspec": {
   "display_name": "Python 3",
   "language": "python",
   "name": "python3"
  },
  "language_info": {
   "codemirror_mode": {
    "name": "ipython",
    "version": 3
   },
   "file_extension": ".py",
   "mimetype": "text/x-python",
   "name": "python",
   "nbconvert_exporter": "python",
   "pygments_lexer": "ipython3",
   "version": "3.8.2"
  }
 },
 "nbformat": 4,
 "nbformat_minor": 4
}
